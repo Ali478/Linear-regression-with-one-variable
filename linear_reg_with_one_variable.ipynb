{
  "cells": [
    {
      "cell_type": "markdown",
      "metadata": {
        "id": "view-in-github",
        "colab_type": "text"
      },
      "source": [
        "<a href=\"https://colab.research.google.com/github/Ali478/Linear-regression-with-one-variable/blob/main/linear_reg_with_one_variable.ipynb\" target=\"_parent\"><img src=\"https://colab.research.google.com/assets/colab-badge.svg\" alt=\"Open In Colab\"/></a>"
      ]
    },
    {
      "cell_type": "markdown",
      "id": "c10fea8b",
      "metadata": {
        "id": "c10fea8b"
      },
      "source": [
        "\n",
        "\n",
        "---\n",
        "\n",
        "\n",
        "\n",
        "\n",
        "# **Single Variable**"
      ]
    },
    {
      "cell_type": "code",
      "execution_count": null,
      "id": "55eacf73",
      "metadata": {
        "id": "55eacf73"
      },
      "outputs": [],
      "source": [
        "import numpy as np\n",
        "import pandas as pd\n",
        "import seaborn as sns\n",
        "import statsmodels.api as sm\n",
        "import matplotlib.pyplot as plt\n"
      ]
    },
    {
      "cell_type": "markdown",
      "id": "290a0817",
      "metadata": {
        "id": "290a0817"
      },
      "source": [
        "\n",
        "\n",
        "\n",
        "---\n",
        "\n",
        "\n",
        "\n",
        "# **Importing data**\n",
        "\n",
        "\n"
      ]
    },
    {
      "cell_type": "code",
      "execution_count": null,
      "id": "0a248ca1",
      "metadata": {
        "id": "0a248ca1"
      },
      "outputs": [],
      "source": [
        "dt = pd.read_csv(\"ex1data1.txt\",header=None)\n",
        "\n",
        "dt.columns = [\"population\", \"profit\"]"
      ]
    },
    {
      "cell_type": "code",
      "execution_count": null,
      "id": "52b1f91d",
      "metadata": {
        "id": "52b1f91d",
        "outputId": "c31b17b5-f394-49b3-f3f4-1c3b86885fa1"
      },
      "outputs": [
        {
          "data": {
            "text/html": [
              "<div>\n",
              "<style scoped>\n",
              "    .dataframe tbody tr th:only-of-type {\n",
              "        vertical-align: middle;\n",
              "    }\n",
              "\n",
              "    .dataframe tbody tr th {\n",
              "        vertical-align: top;\n",
              "    }\n",
              "\n",
              "    .dataframe thead th {\n",
              "        text-align: right;\n",
              "    }\n",
              "</style>\n",
              "<table border=\"1\" class=\"dataframe\">\n",
              "  <thead>\n",
              "    <tr style=\"text-align: right;\">\n",
              "      <th></th>\n",
              "      <th>population</th>\n",
              "      <th>profit</th>\n",
              "    </tr>\n",
              "  </thead>\n",
              "  <tbody>\n",
              "    <tr>\n",
              "      <th>0</th>\n",
              "      <td>6.1101</td>\n",
              "      <td>17.5920</td>\n",
              "    </tr>\n",
              "    <tr>\n",
              "      <th>1</th>\n",
              "      <td>5.5277</td>\n",
              "      <td>9.1302</td>\n",
              "    </tr>\n",
              "    <tr>\n",
              "      <th>2</th>\n",
              "      <td>8.5186</td>\n",
              "      <td>13.6620</td>\n",
              "    </tr>\n",
              "    <tr>\n",
              "      <th>3</th>\n",
              "      <td>7.0032</td>\n",
              "      <td>11.8540</td>\n",
              "    </tr>\n",
              "    <tr>\n",
              "      <th>4</th>\n",
              "      <td>5.8598</td>\n",
              "      <td>6.8233</td>\n",
              "    </tr>\n",
              "  </tbody>\n",
              "</table>\n",
              "</div>"
            ],
            "text/plain": [
              "   population   profit\n",
              "0      6.1101  17.5920\n",
              "1      5.5277   9.1302\n",
              "2      8.5186  13.6620\n",
              "3      7.0032  11.8540\n",
              "4      5.8598   6.8233"
            ]
          },
          "execution_count": 90,
          "metadata": {},
          "output_type": "execute_result"
        }
      ],
      "source": [
        "dt.head()"
      ]
    },
    {
      "cell_type": "code",
      "execution_count": null,
      "id": "1c75a466",
      "metadata": {
        "id": "1c75a466"
      },
      "outputs": [],
      "source": [
        "#iloc...integer location\n",
        "# read first column population as input\n",
        "x = dt.iloc[:,0]\n",
        "#read second column profit as output\n",
        "y = dt.iloc[:,1]\n",
        "#m is number of training examples\n",
        "m = len(y)"
      ]
    },
    {
      "cell_type": "markdown",
      "id": "e7fdd1b4",
      "metadata": {
        "id": "e7fdd1b4"
      },
      "source": [
        "\n",
        "\n",
        "\n",
        "---\n",
        "\n",
        "\n",
        "\n",
        "# **Visualizing the dataset**"
      ]
    },
    {
      "cell_type": "code",
      "execution_count": null,
      "id": "db6a6568",
      "metadata": {
        "id": "db6a6568",
        "outputId": "ab546d13-d3d6-4c13-a001-96db58a64372"
      },
      "outputs": [
        {
          "data": {
            "image/png": "[encoded data removed]",
            "text/plain": [
              "<Figure size 432x288 with 1 Axes>"
            ]
          },
          "metadata": {},
          "output_type": "display_data"
        }
      ],
      "source": [
        "plt.scatter(x,y, marker='x')\n",
        "plt.xlabel('Population of city in 10,000\\'s')\n",
        "plt.ylabel('Profit in $10,000\\'s')\n",
        "plt.title(\"Figure 1: Scatter plot of training data\", fontsize = 34, color=\"red\")\n",
        "plt.show()"
      ]
    },
    {
      "cell_type": "code",
      "execution_count": null,
      "id": "43aac8c7",
      "metadata": {
        "id": "43aac8c7",
        "outputId": "d9bfe5ac-eb03-402a-e050-f92232a1d644"
      },
      "outputs": [
        {
          "name": "stderr",
          "output_type": "stream",
          "text": [
            "/tmp/ipykernel_11096/1868676269.py:2: FutureWarning: Support for multi-dimensional indexing (e.g. `obj[:, None]`) is deprecated and will be removed in a future version.  Convert to a numpy array before indexing instead.\n",
            "  x = x[:,np.newaxis]\n",
            "/tmp/ipykernel_11096/1868676269.py:3: FutureWarning: Support for multi-dimensional indexing (e.g. `obj[:, None]`) is deprecated and will be removed in a future version.  Convert to a numpy array before indexing instead.\n",
            "  y = y[:,np.newaxis]\n"
          ]
        }
      ],
      "source": [
        "#Increasing the rank of both x and y for operations\n",
        "x = x[:,np.newaxis]\n",
        "y = y[:,np.newaxis]\n",
        "theta = np.zeros([2,1])\n",
        "#[theta1]\n",
        "#[theta2]\n",
        "iterations= 1500\n",
        "alpha = 0.01\n",
        "ones = np.ones((m,1))\n",
        "x = np.hstack((ones,x)) #adding the ones column to x so that x*theta gives the h"
      ]
    },
    {
      "cell_type": "markdown",
      "id": "cde76172",
      "metadata": {
        "id": "cde76172"
      },
      "source": [
        "\n",
        "\n",
        "\n",
        "---\n",
        "\n",
        "\n",
        "# **Cost function**"
      ]
    },
    {
      "cell_type": "code",
      "execution_count": null,
      "id": "80e6eda8",
      "metadata": {
        "id": "80e6eda8",
        "outputId": "cd899628-339c-42ab-9d43-dc798fd522a0"
      },
      "outputs": [
        {
          "name": "stdout",
          "output_type": "stream",
          "text": [
            "32.072733877455676\n"
          ]
        }
      ],
      "source": [
        "#computing the cost\n",
        "def computeCost(x,y,theta):\n",
        "    temp = np.dot(x,theta) - y\n",
        "    return np.sum(np.power(temp,2))/(2*m)\n",
        "J = computeCost(x,y,theta)\n",
        "print(J)"
      ]
    },
    {
      "cell_type": "markdown",
      "id": "4582a431",
      "metadata": {
        "id": "4582a431"
      },
      "source": [
        "\n",
        "\n",
        "---\n",
        "\n",
        "\n",
        "\n",
        "# **Gradient decent**"
      ]
    },
    {
      "cell_type": "code",
      "execution_count": null,
      "id": "c6ff4eb7",
      "metadata": {
        "id": "c6ff4eb7"
      },
      "outputs": [],
      "source": [
        "#Finding theta1 and theta2 using gradient descent\n",
        "def gradientDescent(x,y,theta,alpha,iterations):\n",
        "    for _ in range(iterations):\n",
        "        temp = np.dot(x,theta)-y\n",
        "        temp = np.dot(x.T,temp)\n",
        "        theta = theta-(alpha/m)*temp\n",
        "    return theta\n"
      ]
    },
    {
      "cell_type": "code",
      "execution_count": null,
      "id": "9059edb7",
      "metadata": {
        "id": "9059edb7",
        "outputId": "e6efc615-4d7d-4cdc-9e21-bc7ded05368e"
      },
      "outputs": [
        {
          "name": "stdout",
          "output_type": "stream",
          "text": [
            "[[-3.63029144]\n",
            " [ 1.16636235]]\n"
          ]
        }
      ],
      "source": [
        "theta = gradientDescent(x,y,theta,alpha,iterations)\n",
        "print(theta)"
      ]
    },
    {
      "cell_type": "code",
      "execution_count": null,
      "id": "030d453a",
      "metadata": {
        "id": "030d453a",
        "outputId": "7fbcaae2-2b7b-48a9-ce4d-3e13fe22300e"
      },
      "outputs": [
        {
          "name": "stdout",
          "output_type": "stream",
          "text": [
            "4.483388256587726\n"
          ]
        }
      ],
      "source": [
        "#compute cost using optimal theta\n",
        "J = computeCost(x,y,theta)\n",
        "print(J)"
      ]
    },
    {
      "cell_type": "markdown",
      "id": "179488fa",
      "metadata": {
        "id": "179488fa"
      },
      "source": [
        "\n",
        "\n",
        "---\n",
        "\n",
        "\n",
        "\n",
        "\n",
        "\n",
        "# **Plotting the best fit line**\n",
        "\n"
      ]
    },
    {
      "cell_type": "code",
      "execution_count": null,
      "id": "19266246",
      "metadata": {
        "id": "19266246",
        "outputId": "c238c944-87a2-4110-d9eb-2d4ca23dbcd9"
      },
      "outputs": [
        {
          "data": {
            "image/png": "[encoded data removed]",
            "text/plain": [
              "<Figure size 432x288 with 1 Axes>"
            ]
          },
          "metadata": {},
          "output_type": "display_data"
        }
      ],
      "source": [
        "from matplotlib.offsetbox import AnchoredText\n",
        "fig, ax = plt.subplots()\n",
        "at = AnchoredText(\n",
        "    \"Profit= -3.6303 + 1.1664*population \", prop=dict(size=10), frameon=True, loc='upper left')\n",
        "at.patch.set_boxstyle(\"round,pad=0.,rounding_size=0.2\")\n",
        "ax.add_artist(at)\n",
        "\n",
        "plt.scatter(x[:,1],y, marker ='x', label= 'Training data')\n",
        "plt.xlabel('Population of city in 10,000\\'s')\n",
        "plt.ylabel('Profit in $10,000\\'s')\n",
        "plt.plot(x[:,1],np.dot(x,theta), color= 'blue', label='regression line')\n",
        "plt.legend(loc='lower right')\n",
        "plt.show()"
      ]
    },
    {
      "cell_type": "markdown",
      "source": [
        "\n",
        "\n",
        "---\n",
        "\n"
      ],
      "metadata": {
        "id": "VGTPNXTmTKjb"
      },
      "id": "VGTPNXTmTKjb"
    }
  ],
  "metadata": {
    "kernelspec": {
      "display_name": "Python 3 (ipykernel)",
      "language": "python",
      "name": "python3"
    },
    "language_info": {
      "codemirror_mode": {
        "name": "ipython",
        "version": 3
      },
      "file_extension": ".py",
      "mimetype": "text/x-python",
      "name": "python",
      "nbconvert_exporter": "python",
      "pygments_lexer": "ipython3",
      "version": "3.8.10"
    },
    "colab": {
      "name": "linear reg. with one variable.ipynb",
      "provenance": [],
      "include_colab_link": true
    }
  },
  "nbformat": 4,
  "nbformat_minor": 5
}